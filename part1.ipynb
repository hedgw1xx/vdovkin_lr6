{
 "cells": [
  {
   "cell_type": "code",
   "execution_count": 19,
   "metadata": {
    "id": "0SUivF8lofql"
   },
   "outputs": [
    {
     "name": "stdout",
     "output_type": "stream",
     "text": [
      "Requirement already satisfied: pytest in c:\\users\\l4v3nx\\scoop\\apps\\python\\3.13.2\\lib\\site-packages (8.3.5)\n",
      "Requirement already satisfied: colorama in c:\\users\\l4v3nx\\appdata\\roaming\\python\\python313\\site-packages (from pytest) (0.4.6)\n",
      "Requirement already satisfied: iniconfig in c:\\users\\l4v3nx\\scoop\\apps\\python\\3.13.2\\lib\\site-packages (from pytest) (2.1.0)\n",
      "Requirement already satisfied: packaging in c:\\users\\l4v3nx\\appdata\\roaming\\python\\python313\\site-packages (from pytest) (24.2)\n",
      "Requirement already satisfied: pluggy<2,>=1.5 in c:\\users\\l4v3nx\\scoop\\apps\\python\\3.13.2\\lib\\site-packages (from pytest) (1.5.0)\n",
      "Note: you may need to restart the kernel to use updated packages.\n"
     ]
    }
   ],
   "source": [
    "%pip install pytest\n"
   ]
  },
  {
   "cell_type": "code",
   "execution_count": 20,
   "metadata": {
    "collapsed": true,
    "id": "AVVv_20NpGlf"
   },
   "outputs": [
    {
     "name": "stdout",
     "output_type": "stream",
     "text": [
      "Overwriting vdovkin_LR6_Methods_part1.py\n"
     ]
    }
   ],
   "source": [
    "%%writefile vdovkin_LR6_Methods_part1.py\n",
    "\n",
    "def user_input(input_str: str) -> bool:\n",
    "    return input_str.isdigit()\n",
    "\n",
    "def enter_number(label: str) -> int:\n",
    "    while True:\n",
    "        raw_input = input(label)\n",
    "        if user_input(raw_input):\n",
    "            return int(raw_input)\n",
    "\n",
    "def calc_remainder(a, b, c):\n",
    "  return (a + b) % c\n",
    "\n",
    "def calc_integer_part(a, b, c):\n",
    "  return (a + b) // c\n"
   ]
  },
  {
   "cell_type": "code",
   "execution_count": 21,
   "metadata": {
    "id": "sC7aW0BzzkNM"
   },
   "outputs": [
    {
     "name": "stdout",
     "output_type": "stream",
     "text": [
      "Overwriting vdovkin_LR6_Tests_part1.py\n"
     ]
    }
   ],
   "source": [
    "%%writefile vdovkin_LR6_Tests_part1.py\n",
    "import pytest\n",
    "from vdovkin_LR6_Methods_part1 import user_input, calc_integer_part, calc_remainder\n",
    "\n",
    "@pytest.mark.parametrize(\"input_str, expected\", [\n",
    "    (\"\", False),\n",
    "    (\"a\", False),\n",
    "    (\"-1\", False),\n",
    "    (\"1a\", False),\n",
    "])\n",
    "def test_user_input(input_str, expected):\n",
    "    assert user_input(input_str) == expected\n",
    "\n",
    "def test_calc_remainder():\n",
    "    a, b, c = 5, 6, 3\n",
    "    expected = 2 # <= 3\n",
    "    assert calc_remainder(a, b, c) == expected\n",
    "\n",
    "def test_calc_integer_part():\n",
    "    a, b, c = 5, 6, 3\n",
    "    expected = 3 # <= 2\n",
    "    assert calc_integer_part(a, b, c) == expected\n",
    "\n",
    "\n",
    "\n"
   ]
  },
  {
   "cell_type": "code",
   "execution_count": 22,
   "metadata": {},
   "outputs": [
    {
     "name": "stdout",
     "output_type": "stream",
     "text": [
      "\u001b[1m============================= test session starts =============================\u001b[0m\n",
      "platform win32 -- Python 3.13.2, pytest-8.3.5, pluggy-1.5.0 -- c:\\Users\\l4v3nx\\scoop\\apps\\python\\3.13.2\\python.exe\n",
      "cachedir: .pytest_cache\n",
      "rootdir: c:\\Users\\l4v3nx\\vdovkin_ist\\vdovkin_lr6\n",
      "\u001b[1mcollecting ... \u001b[0mcollected 6 items\n",
      "\n",
      "vdovkin_LR6_Tests_part1.py::test_user_input[-False] \u001b[32mPASSED\u001b[0m\u001b[32m               [ 16%]\u001b[0m\n",
      "vdovkin_LR6_Tests_part1.py::test_user_input[a-False] \u001b[32mPASSED\u001b[0m\u001b[32m              [ 33%]\u001b[0m\n",
      "vdovkin_LR6_Tests_part1.py::test_user_input[-1-False] \u001b[32mPASSED\u001b[0m\u001b[32m             [ 50%]\u001b[0m\n",
      "vdovkin_LR6_Tests_part1.py::test_user_input[1a-False] \u001b[32mPASSED\u001b[0m\u001b[32m             [ 66%]\u001b[0m\n",
      "vdovkin_LR6_Tests_part1.py::test_calc_remainder \u001b[32mPASSED\u001b[0m\u001b[32m                   [ 83%]\u001b[0m\n",
      "vdovkin_LR6_Tests_part1.py::test_calc_integer_part \u001b[32mPASSED\u001b[0m\u001b[32m                [100%]\u001b[0m\n",
      "\n",
      "\u001b[32m============================== \u001b[32m\u001b[1m6 passed\u001b[0m\u001b[32m in 0.04s\u001b[0m\u001b[32m ==============================\u001b[0m\n"
     ]
    }
   ],
   "source": [
    "!pytest vdovkin_LR6_Tests_part1.py -v\n"
   ]
  },
  {
   "cell_type": "code",
   "execution_count": 23,
   "metadata": {},
   "outputs": [
    {
     "name": "stdout",
     "output_type": "stream",
     "text": [
      "Overwriting vdovkin_LR6_Main_part1.py\n"
     ]
    }
   ],
   "source": [
    "%%writefile vdovkin_LR6_Main_part1.py\n",
    "from vdovkin_LR6_Methods_part1 import enter_number, calc_integer_part, calc_remainder\n",
    "def main():\n",
    "    a, b, c = [0] * 3\n",
    "    a = enter_number(\"Enter number A: \")\n",
    "    b = enter_number(\"Enter number B: \")\n",
    "    while True:\n",
    "        c = enter_number(\"Enter number C: \")\n",
    "        if c != 0:\n",
    "            break\n",
    "        print(\"Cannot divide by zero. Please enter a non-zero value for C.\")\n",
    "\n",
    "    remainder = calc_remainder(a, b, c)\n",
    "    integer_part = calc_integer_part(a, b, c)\n",
    "\n",
    "    print(f\"Remainder: {remainder}\\nInteger part: {integer_part}\")\n",
    "\n",
    "if __name__ == \"__main__\":\n",
    "    main()\n"
   ]
  },
  {
   "cell_type": "code",
   "execution_count": 25,
   "metadata": {},
   "outputs": [
    {
     "name": "stdout",
     "output_type": "stream",
     "text": [
      "^C\n"
     ]
    }
   ],
   "source": [
    "!python vdovkin_LR6_Main_part1.py\n"
   ]
  }
 ],
 "metadata": {
  "accelerator": "GPU",
  "colab": {
   "authorship_tag": "ABX9TyM3+bv70toHdfBC/QtROjqn",
   "gpuType": "T4",
   "provenance": []
  },
  "kernelspec": {
   "display_name": "Python 3",
   "name": "python3"
  },
  "language_info": {
   "codemirror_mode": {
    "name": "ipython",
    "version": 3
   },
   "file_extension": ".py",
   "mimetype": "text/x-python",
   "name": "python",
   "nbconvert_exporter": "python",
   "pygments_lexer": "ipython3",
   "version": "3.13.2"
  }
 },
 "nbformat": 4,
 "nbformat_minor": 0
}
