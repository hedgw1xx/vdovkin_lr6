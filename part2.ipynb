{
 "cells": [
  {
   "cell_type": "code",
   "execution_count": null,
   "metadata": {
    "id": "0SUivF8lofql"
   },
   "outputs": [],
   "source": [
    "%pip install pytest\n"
   ]
  },
  {
   "cell_type": "code",
   "execution_count": null,
   "metadata": {
    "collapsed": true,
    "id": "AVVv_20NpGlf"
   },
   "outputs": [],
   "source": [
    "%%writefile vdovkin_LR6_Methods_part2.py\n",
    "\n",
    "def find_repeating(s):\n",
    "    if not s:\n",
    "        return []\n",
    "    \n",
    "    result = []\n",
    "    current_char = s[0]\n",
    "    start_idx = 0\n",
    "    count = 1\n",
    "    \n",
    "    for i in range(1, len(s)):\n",
    "        if s[i] == current_char:\n",
    "            count += 1\n",
    "        else:\n",
    "            result.append([current_char, start_idx, i-1, count])\n",
    "            current_char = s[i]\n",
    "            start_idx = i\n",
    "            count = 1\n",
    "    \n",
    "    result.append([current_char, start_idx, len(s)-1, count])\n",
    "    \n",
    "    return result\n"
   ]
  },
  {
   "cell_type": "code",
   "execution_count": null,
   "metadata": {
    "id": "sC7aW0BzzkNM"
   },
   "outputs": [],
   "source": [
    "%%writefile vdovkin_LR6_Tests_part2.py\n",
    "import pytest\n",
    "from vdovkin_LR6_Methods_part2 import find_repeating\n",
    "\n",
    "@pytest.mark.parametrize(\"input_str, expected\", [\n",
    "    (\"a\", [[\"a\", 0, 0, 1]]),\n",
    "    (\"aabbb\", [[\"a\", 0, 1, 2], [\"b\", 2, 4, 3]]),\n",
    "    (\"1337\", [[\"1\", 0, 0, 1], [\"3\", 1, 2, 2], [\"7\", 3, 3, 1]]),\n",
    "    (\"aabbbaabbb\", [[\"a\", 0, 1, 2], [\"b\", 2, 4, 3], [\"a\", 5, 6, 2], [\"b\", 7, 9, 3]]),\n",
    "    (\"\", []),\n",
    "    (\"aaaaa\", [[\"a\", 0, 4, 5]]),\n",
    "    (\"aabb\", [[\"a\", 0, 1, 2], [\"b\", 2, 3, 2]])\n",
    "])\n",
    "def test_find_repeating(input_str, expected):\n",
    "    assert find_repeating(input_str) == expected\n",
    "\n"
   ]
  },
  {
   "cell_type": "code",
   "execution_count": null,
   "metadata": {},
   "outputs": [],
   "source": [
    "!pytest vdovkin_LR6_Tests_part2.py -v\n"
   ]
  },
  {
   "cell_type": "code",
   "execution_count": null,
   "metadata": {},
   "outputs": [],
   "source": [
    "from vdovkin_LR6_Methods_part2 import find_repeating\n",
    "def main():\n",
    "    test_cases = [\n",
    "        \"a\",\n",
    "        \"aabbb\",\n",
    "        \"1488\",\n",
    "        \"aabbbaabbb\",\n",
    "        \"\",\n",
    "        \"aaaaa\",\n",
    "        \"aabb\"\n",
    "    ]\n",
    "    \n",
    "    # Вывод результатов для каждого тестового случая\n",
    "    print(\"Демонстрация работы функции find_repeating:\")\n",
    "    for test in test_cases:\n",
    "        result = find_repeating(test)\n",
    "        print(f\"Input string: '{test}'\")\n",
    "        print(f\"Result: {result}\")\n",
    "        print(\"-\" * 50)\n",
    "\n",
    "if __name__ == \"__main__\":\n",
    "    main()\n"
   ]
  }
 ],
 "metadata": {
  "accelerator": "GPU",
  "colab": {
   "authorship_tag": "ABX9TyM3+bv70toHdfBC/QtROjqn",
   "gpuType": "T4",
   "provenance": []
  },
  "kernelspec": {
   "display_name": "Python 3",
   "name": "python3"
  },
  "language_info": {
   "codemirror_mode": {
    "name": "ipython",
    "version": 3
   },
   "file_extension": ".py",
   "mimetype": "text/x-python",
   "name": "python",
   "nbconvert_exporter": "python",
   "pygments_lexer": "ipython3",
   "version": "3.13.2"
  }
 },
 "nbformat": 4,
 "nbformat_minor": 0
}
